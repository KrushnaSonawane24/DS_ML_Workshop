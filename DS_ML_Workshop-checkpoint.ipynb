{
 "cells": [
  {
   "cell_type": "code",
   "execution_count": 3,
   "id": "76fcb90d-d5ba-43b7-8908-a73afbcec812",
   "metadata": {},
   "outputs": [],
   "source": [
    "import pandas as pd \n",
    "import  numpy as np \n",
    "import matplotlib.pyplot as plt\n"
   ]
  },
  {
   "cell_type": "raw",
   "id": "ae340ee5-e4e4-4f95-83a5-638ef3831b29",
   "metadata": {},
   "source": []
  },
  {
   "cell_type": "code",
   "execution_count": 9,
   "id": "9a3e45bc-6bef-4d8b-ae4c-9d0528ba9f84",
   "metadata": {},
   "outputs": [
    {
     "name": "stdout",
     "output_type": "stream",
     "text": [
      "Let's Learn DS and ML\n"
     ]
    }
   ],
   "source": [
    "print(\"Let's Learn DS and ML\")"
   ]
  },
  {
   "cell_type": "code",
   "execution_count": 54,
   "id": "8fa45cdf-5bd8-4ffd-8152-51814fd692d3",
   "metadata": {},
   "outputs": [
    {
     "ename": "SyntaxError",
     "evalue": "invalid character in identifier (3968921186.py, line 22)",
     "output_type": "error",
     "traceback": [
      "\u001b[1;36m  Cell \u001b[1;32mIn[54], line 22\u001b[1;36m\u001b[0m\n\u001b[1;33m    print(\"Modulus:\", a % b)\u001b[0m\n\u001b[1;37m                       ^\u001b[0m\n\u001b[1;31mSyntaxError\u001b[0m\u001b[1;31m:\u001b[0m invalid character in identifier\n"
     ]
    }
   ],
   "source": [
    "def non_zero(prompt):\n",
    "    while True:\n",
    "        try:\n",
    "            value = int(input(prompt))\n",
    "            if value == 0:\n",
    "                print(\"Zero is not allowed. Please enter a non-zero integer.\")\n",
    "            else:\n",
    "                return value\n",
    "        except ValueError:\n",
    "            print(\"Please enter a valid integer.\")\n",
    "\n",
    "def op():\n",
    "    a = non_zero(\"Enter non-zero integer value for a: \")\n",
    "    b = non_zero(\"Enter non-zero integer value for b: \")\n",
    "\n",
    "    print(\"a =\", a)\n",
    "    print(\"b =\", b)\n",
    "    print(\"Multiplication:\", a * a)\n",
    "    print(\"Addition:\", a + b)\n",
    "    print(\"Subtraction:\", a - b)\n",
    "    print(\"Division:\", a / b)\n",
    "    print(\"Modulus:\", a % b)\n",
    "\n",
    "op()\n",
    "\n",
    "    \n"
   ]
  },
  {
   "cell_type": "code",
   "execution_count": 35,
   "id": "ce782bed-bb91-49f1-9681-d507b60f491d",
   "metadata": {},
   "outputs": [],
   "source": [
    "def fun(a,b):\n",
    "    a=int(input(\"enter the no \"))\n",
    "    b=int(input(\"enter the no \"))"
   ]
  },
  {
   "cell_type": "code",
   "execution_count": 24,
   "id": "0dd3a9fe-aefd-416f-889c-0377831ec227",
   "metadata": {},
   "outputs": [
    {
     "name": "stdout",
     "output_type": "stream",
     "text": [
      "12\n"
     ]
    }
   ],
   "source": []
  },
  {
   "cell_type": "code",
   "execution_count": 21,
   "id": "e442dff4-74b4-4343-b226-c7456c4291a2",
   "metadata": {},
   "outputs": [
    {
     "name": "stdout",
     "output_type": "stream",
     "text": [
      "27\n"
     ]
    }
   ],
   "source": [
    "print(a**a)"
   ]
  },
  {
   "cell_type": "code",
   "execution_count": 20,
   "id": "0da574a5-2ab4-4d4b-a73b-e7eacf14fae8",
   "metadata": {},
   "outputs": [
    {
     "name": "stdout",
     "output_type": "stream",
     "text": [
      "0.75\n"
     ]
    }
   ],
   "source": [
    "print(a/b)"
   ]
  },
  {
   "cell_type": "code",
   "execution_count": 22,
   "id": "f12a9e2b-bada-4d68-8231-0ed0f3695f3e",
   "metadata": {},
   "outputs": [
    {
     "name": "stdout",
     "output_type": "stream",
     "text": [
      "-1\n"
     ]
    }
   ],
   "source": [
    "print(a-b)"
   ]
  },
  {
   "cell_type": "code",
   "execution_count": 58,
   "id": "09cace80-14dd-4214-8d2d-902bdb59fe5e",
   "metadata": {},
   "outputs": [
    {
     "name": "stdin",
     "output_type": "stream",
     "text": [
      "Enter non-zero integer value for a:  11\n",
      "Enter non-zero integer value for b:  33\n"
     ]
    },
    {
     "name": "stdout",
     "output_type": "stream",
     "text": [
      "a = 11\n",
      "b = 33\n",
      "Multiplication: 121\n",
      "Addition: 44\n",
      "Subtraction: -22\n",
      "Division: 0.3333333333333333\n"
     ]
    }
   ],
   "source": [
    "def non_zero(prompt):\n",
    "    while True:\n",
    "        try:\n",
    "            value = int(input(prompt))\n",
    "            if value == 0:\n",
    "                print(\"Zero is not allowed. Please enter a non-zero integer.\")\n",
    "            else:\n",
    "                return value\n",
    "        except ValueError:\n",
    "            print(\"Please enter a valid integer.\")\n",
    "\n",
    "def op():\n",
    "    a = non_zero(\"Enter non-zero integer value for a: \")\n",
    "    b = non_zero(\"Enter non-zero integer value for b: \")\n",
    "\n",
    "    print(\"a =\", a)\n",
    "    print(\"b =\", b)\n",
    "    print(\"Multiplication:\", a * a)\n",
    "    print(\"Addition:\", a + b)\n",
    "    print(\"Subtraction:\", a - b)\n",
    "    print(\"Division:\", a / b)\n",
    "    \n",
    "\n",
    "op()"
   ]
  },
  {
   "cell_type": "code",
   "execution_count": null,
   "id": "1e502f3e-2ed3-4260-93d3-24a9523c16d2",
   "metadata": {},
   "outputs": [],
   "source": [
    "#rasterio"
   ]
  },
  {
   "cell_type": "code",
   "execution_count": null,
   "id": "461ef925-6451-4cf3-9848-634b52af66fc",
   "metadata": {},
   "outputs": [],
   "source": []
  },
  {
   "cell_type": "code",
   "execution_count": null,
   "id": "d695f6d9-0f96-4545-8605-722bef794d9e",
   "metadata": {},
   "outputs": [],
   "source": []
  },
  {
   "cell_type": "code",
   "execution_count": null,
   "id": "99be0e79-887b-4b59-b42f-b8698c8f83a5",
   "metadata": {},
   "outputs": [],
   "source": []
  },
  {
   "cell_type": "code",
   "execution_count": null,
   "id": "94d4ef36-1241-43d0-b620-2e3778519b61",
   "metadata": {},
   "outputs": [],
   "source": []
  },
  {
   "cell_type": "code",
   "execution_count": null,
   "id": "00a80437-e603-4009-a511-cb9a845199b7",
   "metadata": {},
   "outputs": [],
   "source": []
  },
  {
   "cell_type": "code",
   "execution_count": null,
   "id": "debb754e-7ab4-4a14-9054-41d502f8fe4b",
   "metadata": {},
   "outputs": [],
   "source": []
  },
  {
   "cell_type": "code",
   "execution_count": null,
   "id": "cba218ee-a3eb-479a-9867-cc530ed6c1ac",
   "metadata": {},
   "outputs": [],
   "source": []
  },
  {
   "cell_type": "code",
   "execution_count": null,
   "id": "dfcdd6ee-78dd-46a2-a9b3-be21d901ef06",
   "metadata": {},
   "outputs": [],
   "source": []
  },
  {
   "cell_type": "code",
   "execution_count": null,
   "id": "e621c4e6-a0f0-41ae-95bd-d13136a2117b",
   "metadata": {},
   "outputs": [],
   "source": []
  },
  {
   "cell_type": "code",
   "execution_count": null,
   "id": "7a1aae5e-9ef2-4a3f-8287-2782a1d8049d",
   "metadata": {},
   "outputs": [],
   "source": []
  }
 ],
 "metadata": {
  "kernelspec": {
   "display_name": "Python 3 (ipykernel)",
   "language": "python",
   "name": "python3"
  },
  "language_info": {
   "codemirror_mode": {
    "name": "ipython",
    "version": 3
   },
   "file_extension": ".py",
   "mimetype": "text/x-python",
   "name": "python",
   "nbconvert_exporter": "python",
   "pygments_lexer": "ipython3",
   "version": "3.8.9"
  }
 },
 "nbformat": 4,
 "nbformat_minor": 5
}
